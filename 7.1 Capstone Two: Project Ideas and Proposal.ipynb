{
 "cells": [
  {
   "cell_type": "markdown",
   "source": [
    "# Goals\n",
    "## 7.1 Capstone Two: Project Ideas and Proposal\n",
    "1. Finalize one of your capstone ideas based on the feedback\n",
    "2. Create Google Doc and use steps you learned in Problem Identification unit to develop answers to each of the bullets"
   ],
   "metadata": {
    "collapsed": false
   }
  },
  {
   "cell_type": "markdown",
   "source": [
    "### Problem Identification\n",
    "* Problem statement Formation\n",
    "* Context\n",
    "* Criteria for Success\n",
    "* Scope of Solution Space\n",
    "* Constraints\n",
    "* Stakeholders\n",
    "* Data Sources"
   ],
   "metadata": {
    "collapsed": false
   }
  },
  {
   "cell_type": "markdown",
   "source": [
    "### Key Ideas and Questions\n",
    "* What is the problem you want to solve?\n",
    "* Who is your client and why do they care about this problem? In other words, what will your client do or decide based on your analysis?\n",
    "* What data are you using? How will you acquire the data?\n",
    "* Briefly explain how you'll solve this problem. Your approach may change later, but this is a good first step to get you thinking about a method and solution\n",
    "* What are your deliverables? Typically, this includes code, a paper, or a slide deck. For this capstone, the deliverables include:\n",
    "    * A Github Repo containing the work you complete for each step of the project including:\n",
    "        * A slide deck\n",
    "        * A project report\n"
   ],
   "metadata": {
    "collapsed": false
   }
  },
  {
   "cell_type": "code",
   "execution_count": null,
   "outputs": [],
   "source": [],
   "metadata": {
    "collapsed": false
   }
  }
 ],
 "metadata": {
  "kernelspec": {
   "display_name": "Python 3",
   "language": "python",
   "name": "python3"
  },
  "language_info": {
   "codemirror_mode": {
    "name": "ipython",
    "version": 2
   },
   "file_extension": ".py",
   "mimetype": "text/x-python",
   "name": "python",
   "nbconvert_exporter": "python",
   "pygments_lexer": "ipython2",
   "version": "2.7.6"
  }
 },
 "nbformat": 4,
 "nbformat_minor": 0
}
